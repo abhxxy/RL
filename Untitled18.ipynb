{
  "nbformat": 4,
  "nbformat_minor": 0,
  "metadata": {
    "colab": {
      "provenance": []
    },
    "kernelspec": {
      "name": "python3",
      "display_name": "Python 3"
    },
    "language_info": {
      "name": "python"
    }
  },
  "cells": [
    {
      "cell_type": "code",
      "execution_count": null,
      "metadata": {
        "id": "cul9v6-faVb_"
      },
      "outputs": [],
      "source": [
        "import pandas as pd\n",
        "dataset = pd.read_csv(r'/House_Rent_Dataset.csv')\n",
        "print(dataset)\n"
      ]
    },
    {
      "cell_type": "code",
      "source": [
        "import pandas as pd\n",
        "import numpy as np\n",
        "import matplotlib.pyplot as plt\n",
        "import seaborn as sns\n",
        "\n",
        "\n",
        "dataset = pd.read_csv(r'/House_Rent_Dataset.csv')\n",
        "\n",
        "\n",
        "correlation_matrix = dataset.corr()\n",
        "\n",
        "\n",
        "positive_corr = correlation_matrix[correlation_matrix > 0.5]\n",
        "negative_corr = correlation_matrix[correlation_matrix < -0.5]\n",
        "zero_corr = correlation_matrix[abs(correlation_matrix) < 0.1]\n",
        "\n",
        "\n",
        "for col1 in positive_corr.columns:\n",
        "    for col2 in positive_corr.index:\n",
        "        if col1 != col2 and not np.isnan(positive_corr.loc[col2, col1]):\n",
        "            plt.scatter(dataset[col1], dataset[col2], label=f\"Corr: {positive_corr.loc[col2, col1]:.2f}\")\n",
        "            plt.xlabel(col1)\n",
        "            plt.ylabel(col2)\n",
        "            plt.legend()\n",
        "            plt.title(\"Positive Correlation Scatter Plot\")\n",
        "            plt.show()\n",
        "\n",
        "\n",
        "for col1 in negative_corr.columns:\n",
        "    for col2 in negative_corr.index:\n",
        "        if col1 != col2 and not np.isnan(negative_corr.loc[col2, col1]):\n",
        "            plt.scatter(dataset[col1], dataset[col2], label=f\"Corr: {negative_corr.loc[col2, col1]:.2f}\", color='red')\n",
        "            plt.xlabel(col1)\n",
        "            plt.ylabel(col2)\n",
        "            plt.legend()\n",
        "            plt.title(\"Negative Correlation Scatter Plot\")\n",
        "            plt.show()\n",
        "\n",
        "for col1 in zero_corr.columns:\n",
        "    for col2 in zero_corr.index:\n",
        "        if col1 != col2 and not np.isnan(zero_corr.loc[col2, col1]):\n",
        "            plt.scatter(dataset[col1], dataset[col2], label=\"Zero Correlation\", color='green')\n",
        "            plt.xlabel(col1)\n",
        "            plt.ylabel(col2)\n",
        "            plt.legend()\n",
        "            plt.title(\"Zero Correlation Scatter Plot\")\n",
        "            plt.show()\n",
        "\n",
        "\n",
        "plt.figure(figsize=(10, 8))\n",
        "sns.heatmap(correlation_matrix, annot=True, cmap='coolwarm', center=0)\n",
        "plt.title(\"Correlation Heatmap\")\n",
        "plt.show()\n"
      ],
      "metadata": {
        "id": "JpzP2YAJaZBW"
      },
      "execution_count": null,
      "outputs": []
    }
  ]
}